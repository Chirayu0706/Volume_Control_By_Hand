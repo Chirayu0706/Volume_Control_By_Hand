{
 "cells": [
  {
   "cell_type": "code",
   "execution_count": 2,
   "id": "8fb92643",
   "metadata": {
    "scrolled": true
   },
   "outputs": [],
   "source": [
    "import cv2 as cv\n",
    "import mediapipe as mp\n",
    "import time\n",
    "from ctypes import cast, POINTER\n",
    "from comtypes import CLSCTX_ALL\n",
    "from pycaw.pycaw import AudioUtilities, IAudioEndpointVolume\n",
    "import numpy as np\n",
    "import math"
   ]
  },
  {
   "cell_type": "code",
   "execution_count": 3,
   "id": "fcc55382",
   "metadata": {},
   "outputs": [
    {
     "name": "stdout",
     "output_type": "stream",
     "text": [
      "(-65.25, 0.0, 0.03125)\n"
     ]
    },
    {
     "data": {
      "text/plain": [
       "0"
      ]
     },
     "execution_count": 3,
     "metadata": {},
     "output_type": "execute_result"
    }
   ],
   "source": [
    "devices = AudioUtilities.GetSpeakers()\n",
    "interface = devices.Activate(\n",
    "    IAudioEndpointVolume._iid_, CLSCTX_ALL, None)\n",
    "volume = cast(interface, POINTER(IAudioEndpointVolume))"
   ]
  },
  {
   "cell_type": "code",
   "execution_count": 28,
   "id": "eda983a2",
   "metadata": {
    "scrolled": false
   },
   "outputs": [
    {
     "name": "stdout",
     "output_type": "stream",
     "text": [
      "-65.25\n",
      "-65.25\n",
      "-65.25\n",
      "-65.25\n",
      "-65.25\n",
      "-60.67230717537533\n",
      "-56.17455687240497\n",
      "-45.412324948556616\n",
      "-28.452847805224714\n",
      "-13.015484884460513\n",
      "-4.418956848288339\n",
      "0.0\n",
      "0.0\n",
      "0.0\n",
      "0.0\n",
      "0.0\n",
      "0.0\n",
      "0.0\n",
      "0.0\n",
      "0.0\n",
      "0.0\n",
      "-2.324112641031121\n",
      "-6.1869029874389625\n",
      "-13.892381040447404\n",
      "-24.575009596403532\n",
      "-32.32384331137779\n",
      "-39.09426738725756\n",
      "-46.542298240872455\n",
      "-50.649941872274624\n",
      "-55.2369123997203\n",
      "-59.14311316070397\n",
      "-65.25\n",
      "-65.25\n",
      "-65.25\n",
      "-65.25\n",
      "-65.25\n",
      "-65.25\n",
      "-52.85167614818411\n",
      "-46.15606520348314\n",
      "-31.57297453465877\n",
      "-22.938280922045543\n",
      "-8.4084192440367\n",
      "-3.1116037336092575\n",
      "0.0\n",
      "0.0\n",
      "0.0\n",
      "0.0\n",
      "0.0\n",
      "0.0\n",
      "0.0\n",
      "0.0\n",
      "0.0\n",
      "-1.4557411559424196\n",
      "-3.0663914181091414\n",
      "-5.398670617214911\n",
      "-6.1869029874389625\n",
      "-15.412457483006861\n",
      "-20.044210036770366\n",
      "-29.249341401995245\n",
      "-41.54604635278134\n",
      "-52.6055788713648\n",
      "-60.44706947514449\n",
      "-62.53901944306721\n",
      "-65.25\n",
      "-65.25\n",
      "-65.25\n",
      "-61.957314939664556\n",
      "-46.055999714840944\n",
      "-37.72397349362663\n",
      "-31.57297453465877\n",
      "-16.194793666903074\n",
      "-5.243550641076041\n",
      "0.0\n",
      "0.0\n",
      "0.0\n",
      "0.0\n",
      "0.0\n",
      "0.0\n"
     ]
    }
   ],
   "source": [
    "capture = cv.VideoCapture(0)\n",
    "mpHands = mp.solutions.hands\n",
    "hands = mpHands.Hands()\n",
    "mpDraw = mp.solutions.drawing_utils #Used to draw the lines and points in landmark\n",
    "wCam , hCam = 48,48\n",
    "capture.set(3,wCam)\n",
    "capture.set(4,hCam)\n",
    "pTime =0 #For Frame Rate\n",
    "cTime =0 #\n",
    "while True:\n",
    "    success, img = capture.read()\n",
    "    img_in_RGB = cv.cvtColor(img,cv.COLOR_BGR2RGB) #hands in mediapipe only takes RGB so we converted\n",
    "    result = hands.process(img_in_RGB)\n",
    "    h,w,c = img.shape #as the mpHands gives us the answer in ratio\n",
    "    #print(result.multi_hand_landmarks) to print the landmarks\n",
    "    if result.multi_hand_landmarks:\n",
    "        for hand_landmarks in result.multi_hand_landmarks:\n",
    "            for id, lm in enumerate(hand_landmarks.landmark):\n",
    "                #print(id,cx,cy)\n",
    "                if id==4:\n",
    "                    cx4,cy4 = int(lm.x*w),int(lm.y*h)\n",
    "                if id==8:\n",
    "                    cx8,cy8 = int(lm.x*w),int(lm.y*h)\n",
    "                    length = math.hypot(cx4-cx8,cy4-cy8)\n",
    "                    vol = np.interp(length,[15,75],[-65.25,0])\n",
    "                    volume.SetMasterVolumeLevel(vol, None)\n",
    "                    print(vol)\n",
    "                    if vol==0:\n",
    "                        cv.line(img,(cx4,cy4),(cx8,cy8),(0,0,255),3)\n",
    "                    else:\n",
    "                        cv.line(img,(cx4,cy4),(cx8,cy8),(0,255,0),3)\n",
    "    cTime = time.time()\n",
    "    fps = 1/(cTime-pTime)\n",
    "    pTime = cTime\n",
    "    cv.putText(img,str(int(fps)),(10,70),cv.FONT_HERSHEY_PLAIN,3,(255,0,255),3)\n",
    "    cv.imshow('Video',img)\n",
    "    if cv.waitKey(20) & 0xFF==ord('d'):\n",
    "        cv.destroyAllWindows()\n",
    "        break\n",
    "capture.release()"
   ]
  },
  {
   "cell_type": "code",
   "execution_count": null,
   "id": "de3942cc",
   "metadata": {},
   "outputs": [],
   "source": []
  }
 ],
 "metadata": {
  "kernelspec": {
   "display_name": "Python 3 (ipykernel)",
   "language": "python",
   "name": "python3"
  },
  "language_info": {
   "codemirror_mode": {
    "name": "ipython",
    "version": 3
   },
   "file_extension": ".py",
   "mimetype": "text/x-python",
   "name": "python",
   "nbconvert_exporter": "python",
   "pygments_lexer": "ipython3",
   "version": "3.9.7"
  }
 },
 "nbformat": 4,
 "nbformat_minor": 5
}
